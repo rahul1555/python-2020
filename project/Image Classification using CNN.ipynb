{
 "cells": [
  {
   "cell_type": "code",
   "execution_count": 1,
   "metadata": {},
   "outputs": [],
   "source": [
    "# Importing the Libraries\n",
    "import tensorflow as tf\n",
    "from tensorflow.keras.models import *\n",
    "from tensorflow.keras.layers import *\n",
    "from tensorflow.keras.optimizers import *\n",
    "from tensorflow.keras.utils import to_categorical\n",
    "import numpy as np\n",
    "import pandas as pd\n",
    "import matplotlib.pyplot as plt"
   ]
  },
  {
   "cell_type": "code",
   "execution_count": 2,
   "metadata": {},
   "outputs": [
    {
     "name": "stdout",
     "output_type": "stream",
     "text": [
      "['airplane', 'car', 'cat', 'dog', 'flower', 'fruit', 'motorbike', 'person']\n"
     ]
    }
   ],
   "source": [
    "import os\n",
    "class_names = os.listdir('./../natural_images/')\n",
    "print(class_names)"
   ]
  },
  {
   "cell_type": "code",
   "execution_count": 3,
   "metadata": {},
   "outputs": [
    {
     "name": "stdout",
     "output_type": "stream",
     "text": [
      "Class : Total Images\n",
      "-------------\n",
      "airplane : 727\n",
      "car : 968\n",
      "cat : 885\n",
      "dog : 702\n",
      "flower : 843\n",
      "fruit : 1000\n",
      "motorbike : 788\n",
      "person : 986\n"
     ]
    }
   ],
   "source": [
    "count = []\n",
    "print(\"Class : Total Images\")\n",
    "print(\"-------------\")\n",
    "for label in class_names:\n",
    "    path = '../natural_images/{0}/'.format(label)\n",
    "    folder_data = os.listdir(path)\n",
    "    images_count = len(folder_data)\n",
    "    count.append(images_count)\n",
    "    print(label + \" : \" + str(images_count))"
   ]
  },
  {
   "cell_type": "code",
   "execution_count": 4,
   "metadata": {},
   "outputs": [
    {
     "data": {
      "image/png": "[encoded data removed]",
      "text/plain": [
       "<Figure size 576x576 with 1 Axes>"
      ]
     },
     "metadata": {
      "needs_background": "light"
     },
     "output_type": "display_data"
    }
   ],
   "source": [
    "# Distribution of images per each class\n",
    "plt.figure(figsize = (8,8))\n",
    "plt.bar(class_names, count)\n",
    "plt.title('NUMBER OF IMAGES CONTAINED IN EACH CLASS')\n",
    "plt.xlabel('Image Classes')\n",
    "plt.ylabel('No.of Images per class')\n",
    "plt.show()"
   ]
  },
  {
   "cell_type": "code",
   "execution_count": 5,
   "metadata": {},
   "outputs": [],
   "source": [
    "# Reading the Data \n",
    "images_data =[]\n",
    "images_labels = []\n",
    "import cv2\n",
    "for label in class_names:\n",
    "    path = '../natural_images/{0}/'.format(label)\n",
    "    folder_data = os.listdir(path)\n",
    "    for image_path in folder_data:\n",
    "        image = cv2.imread(path+image_path)\n",
    "        image_resized = cv2.resize(image, (32,32))\n",
    "        images_data.append(np.array(image_resized))\n",
    "        images_labels.append(label)"
   ]
  },
  {
   "cell_type": "code",
   "execution_count": 6,
   "metadata": {},
   "outputs": [],
   "source": [
    "# Converting the data to Numpy arrays\n",
    "images_data = np.array(images_data)\n",
    "images_labels = np.array(images_labels)"
   ]
  },
  {
   "cell_type": "code",
   "execution_count": 7,
   "metadata": {},
   "outputs": [
    {
     "data": {
      "text/plain": [
       "(6899, 32, 32, 3)"
      ]
     },
     "execution_count": 7,
     "metadata": {},
     "output_type": "execute_result"
    }
   ],
   "source": [
    "images_data.shape"
   ]
  },
  {
   "cell_type": "code",
   "execution_count": 8,
   "metadata": {},
   "outputs": [
    {
     "data": {
      "text/plain": [
       "(6899,)"
      ]
     },
     "execution_count": 8,
     "metadata": {},
     "output_type": "execute_result"
    }
   ],
   "source": [
    "images_labels.shape"
   ]
  },
  {
   "cell_type": "code",
   "execution_count": 9,
   "metadata": {},
   "outputs": [],
   "source": [
    "# Shuffling the Data as we have all the image labels as groups\n",
    "indices = np.arange(images_data.shape[0])\n",
    "np.random.shuffle(indices)\n",
    "images_data = images_data[indices]\n",
    "images_labels = images_labels[indices]"
   ]
  },
  {
   "cell_type": "code",
   "execution_count": 10,
   "metadata": {},
   "outputs": [],
   "source": [
    "# Encoding the class Names & converting to categorical values\n",
    "from sklearn.preprocessing import LabelEncoder\n",
    "encoded_images_labels = LabelEncoder().fit_transform(images_labels)"
   ]
  },
  {
   "cell_type": "code",
   "execution_count": 11,
   "metadata": {},
   "outputs": [],
   "source": [
    "from keras.utils import to_categorical\n",
    "categorical_images_labels = to_categorical(encoded_images_labels)"
   ]
  },
  {
   "cell_type": "code",
   "execution_count": 12,
   "metadata": {},
   "outputs": [],
   "source": [
    "# Splitting the data\n",
    "from sklearn.model_selection import train_test_split\n",
    "X_train, X_test, Y_train, Y_test = train_test_split(images_data, categorical_images_labels, test_size = 0.25)"
   ]
  },
  {
   "cell_type": "code",
   "execution_count": 13,
   "metadata": {},
   "outputs": [],
   "source": [
    "# Model Implementation\n",
    "model = Sequential()\n",
    "model.add(Conv2D(filters=32, kernel_size=(5,5), activation='relu', input_shape=X_train.shape[1:]))\n",
    "model.add(MaxPool2D(pool_size=(2, 2)))\n",
    "model.add(Dropout(rate=0.25))\n",
    "model.add(Flatten())\n",
    "model.add(Dense(256, activation='relu'))\n",
    "model.add(Dropout(rate=0.5))\n",
    "model.add(Dense(len(class_names), activation='softmax'))"
   ]
  },
  {
   "cell_type": "code",
   "execution_count": 14,
   "metadata": {},
   "outputs": [
    {
     "name": "stdout",
     "output_type": "stream",
     "text": [
      "Model: \"sequential\"\n",
      "_________________________________________________________________\n",
      "Layer (type)                 Output Shape              Param #   \n",
      "=================================================================\n",
      "conv2d (Conv2D)              (None, 28, 28, 32)        2432      \n",
      "_________________________________________________________________\n",
      "max_pooling2d (MaxPooling2D) (None, 14, 14, 32)        0         \n",
      "_________________________________________________________________\n",
      "dropout (Dropout)            (None, 14, 14, 32)        0         \n",
      "_________________________________________________________________\n",
      "flatten (Flatten)            (None, 6272)              0         \n",
      "_________________________________________________________________\n",
      "dense (Dense)                (None, 256)               1605888   \n",
      "_________________________________________________________________\n",
      "dropout_1 (Dropout)          (None, 256)               0         \n",
      "_________________________________________________________________\n",
      "dense_1 (Dense)              (None, 8)                 2056      \n",
      "=================================================================\n",
      "Total params: 1,610,376\n",
      "Trainable params: 1,610,376\n",
      "Non-trainable params: 0\n",
      "_________________________________________________________________\n"
     ]
    }
   ],
   "source": [
    "model.summary()"
   ]
  },
  {
   "cell_type": "code",
   "execution_count": 15,
   "metadata": {},
   "outputs": [],
   "source": [
    "model.compile(\n",
    "    loss='categorical_crossentropy', \n",
    "    optimizer='adam', \n",
    "    metrics=['accuracy'])"
   ]
  },
  {
   "cell_type": "code",
   "execution_count": 16,
   "metadata": {},
   "outputs": [
    {
     "name": "stdout",
     "output_type": "stream",
     "text": [
      "Epoch 1/10\n",
      "130/130 [==============================] - 3s 27ms/step - loss: 10.1690 - accuracy: 0.3967 - val_loss: 1.2347 - val_accuracy: 0.6068\n",
      "Epoch 2/10\n",
      "130/130 [==============================] - 3s 25ms/step - loss: 1.1297 - accuracy: 0.6448 - val_loss: 1.1060 - val_accuracy: 0.6725\n",
      "Epoch 3/10\n",
      "130/130 [==============================] - 4s 34ms/step - loss: 0.7370 - accuracy: 0.7652 - val_loss: 0.9146 - val_accuracy: 0.7198\n",
      "Epoch 4/10\n",
      "130/130 [==============================] - 5s 36ms/step - loss: 0.6327 - accuracy: 0.7932 - val_loss: 0.9290 - val_accuracy: 0.7014\n",
      "Epoch 5/10\n",
      "130/130 [==============================] - 4s 33ms/step - loss: 0.5215 - accuracy: 0.8169 - val_loss: 0.8633 - val_accuracy: 0.7681\n",
      "Epoch 6/10\n",
      "130/130 [==============================] - 4s 33ms/step - loss: 0.4485 - accuracy: 0.8521 - val_loss: 0.7721 - val_accuracy: 0.7662\n",
      "Epoch 7/10\n",
      "130/130 [==============================] - 4s 34ms/step - loss: 0.4255 - accuracy: 0.8703 - val_loss: 0.9794 - val_accuracy: 0.7063\n",
      "Epoch 8/10\n",
      "130/130 [==============================] - 4s 34ms/step - loss: 0.4363 - accuracy: 0.8645 - val_loss: 0.8742 - val_accuracy: 0.7459\n",
      "Epoch 9/10\n",
      "130/130 [==============================] - 4s 34ms/step - loss: 0.3395 - accuracy: 0.8937 - val_loss: 0.9421 - val_accuracy: 0.7285\n",
      "Epoch 10/10\n",
      "130/130 [==============================] - 5s 37ms/step - loss: 0.3382 - accuracy: 0.8915 - val_loss: 0.8919 - val_accuracy: 0.7594\n"
     ]
    }
   ],
   "source": [
    "history = model.fit(X_train, Y_train, epochs=10, validation_split=0.2)"
   ]
  },
  {
   "cell_type": "code",
   "execution_count": 17,
   "metadata": {},
   "outputs": [],
   "source": [
    "model.save('image_classifier.h5')"
   ]
  },
  {
   "cell_type": "code",
   "execution_count": 18,
   "metadata": {},
   "outputs": [
    {
     "name": "stdout",
     "output_type": "stream",
     "text": [
      "WARNING:tensorflow:From <ipython-input-18-697bd19b5ec7>:2: Sequential.predict_classes (from tensorflow.python.keras.engine.sequential) is deprecated and will be removed after 2021-01-01.\n",
      "Instructions for updating:\n",
      "Please use instead:* `np.argmax(model.predict(x), axis=-1)`,   if your model does multi-class classification   (e.g. if it uses a `softmax` last-layer activation).* `(model.predict(x) > 0.5).astype(\"int32\")`,   if your model does binary classification   (e.g. if it uses a `sigmoid` last-layer activation).\n"
     ]
    },
    {
     "data": {
      "text/plain": [
       "array([7, 1, 7, ..., 3, 7, 4], dtype=int64)"
      ]
     },
     "execution_count": 18,
     "metadata": {},
     "output_type": "execute_result"
    }
   ],
   "source": [
    "image_classifier = load_model('image_classifier.h5')\n",
    "y_pred = image_classifier.predict_classes(X_test)\n",
    "y_pred"
   ]
  },
  {
   "cell_type": "code",
   "execution_count": 19,
   "metadata": {},
   "outputs": [
    {
     "data": {
      "text/plain": [
       "array([7, 1, 7, ..., 3, 7, 4], dtype=int64)"
      ]
     },
     "execution_count": 19,
     "metadata": {},
     "output_type": "execute_result"
    }
   ],
   "source": [
    "#converting y test to actual labels.\n",
    "y_test = np.argmax(Y_test, axis = 1)\n",
    "y_test"
   ]
  },
  {
   "cell_type": "code",
   "execution_count": 20,
   "metadata": {},
   "outputs": [
    {
     "name": "stdout",
     "output_type": "stream",
     "text": [
      "The Accuracy is: 75.82608695652175\n"
     ]
    }
   ],
   "source": [
    "# Accuracy calculation\n",
    "from sklearn.metrics import accuracy_score\n",
    "print('The Accuracy is:', accuracy_score(y_pred,y_test) * 100)"
   ]
  },
  {
   "cell_type": "code",
   "execution_count": 21,
   "metadata": {},
   "outputs": [
    {
     "data": {
      "image/png": "[encoded data removed]",
      "text/plain": [
       "<Figure size 432x288 with 1 Axes>"
      ]
     },
     "metadata": {
      "needs_background": "light"
     },
     "output_type": "display_data"
    },
    {
     "name": "stdout",
     "output_type": "stream",
     "text": [
      "Actual Value for :person\n",
      "Predicted Value for : person\n",
      "\n"
     ]
    },
    {
     "data": {
      "image/png": "[encoded data removed]",
      "text/plain": [
       "<Figure size 432x288 with 1 Axes>"
      ]
     },
     "metadata": {
      "needs_background": "light"
     },
     "output_type": "display_data"
    },
    {
     "name": "stdout",
     "output_type": "stream",
     "text": [
      "Actual Value for :car\n",
      "Predicted Value for : car\n",
      "\n"
     ]
    },
    {
     "data": {
      "image/png": "[encoded data removed]",
      "text/plain": [
       "<Figure size 432x288 with 1 Axes>"
      ]
     },
     "metadata": {
      "needs_background": "light"
     },
     "output_type": "display_data"
    },
    {
     "name": "stdout",
     "output_type": "stream",
     "text": [
      "Actual Value for :person\n",
      "Predicted Value for : person\n",
      "\n"
     ]
    },
    {
     "data": {
      "image/png": "[encoded data removed]",
      "text/plain": [
       "<Figure size 432x288 with 1 Axes>"
      ]
     },
     "metadata": {
      "needs_background": "light"
     },
     "output_type": "display_data"
    },
    {
     "name": "stdout",
     "output_type": "stream",
     "text": [
      "Actual Value for :person\n",
      "Predicted Value for : person\n",
      "\n"
     ]
    }
   ],
   "source": [
    "# Predicting the Result for few test images\n",
    "for i in range(0,4):\n",
    "    plt.imshow(X_test[i,:,:])  \n",
    "    plt.show()\n",
    "    predicted_value = image_classifier.predict(X_test[[i],:])\n",
    "    predict_classes = image_classifier.predict_classes(X_test[[i],:])\n",
    "    actual_value = Y_test[[i],:]\n",
    "    print(\"Actual Value for :\" + str(class_names[np.argmax(actual_value)]))\n",
    "    print(\"Predicted Value for : \"  + str(class_names[predict_classes[0]])+'\\n')"
   ]
  },
  {
   "cell_type": "markdown",
   "metadata": {},
   "source": [
    "# Implementing model with Scaling the data\n",
    "\n"
   ]
  },
  {
   "cell_type": "code",
   "execution_count": 22,
   "metadata": {},
   "outputs": [],
   "source": [
    "# Scaling the data\n",
    "images_data_scaled = images_data / 255"
   ]
  },
  {
   "cell_type": "code",
   "execution_count": 23,
   "metadata": {},
   "outputs": [],
   "source": [
    "# Splitting the data\n",
    "from sklearn.model_selection import train_test_split\n",
    "X_train, X_test, Y_train, Y_test = train_test_split(images_data_scaled, categorical_images_labels, test_size = 0.25)"
   ]
  },
  {
   "cell_type": "code",
   "execution_count": 24,
   "metadata": {},
   "outputs": [
    {
     "name": "stdout",
     "output_type": "stream",
     "text": [
      "Epoch 1/10\n",
      "162/162 [==============================] - 5s 33ms/step - loss: 1.1202 - accuracy: 0.6036 - val_loss: 0.5924 - val_accuracy: 0.8052\n",
      "Epoch 2/10\n",
      "162/162 [==============================] - 6s 38ms/step - loss: 0.6177 - accuracy: 0.7915 - val_loss: 0.5000 - val_accuracy: 0.8290\n",
      "Epoch 3/10\n",
      "162/162 [==============================] - 6s 39ms/step - loss: 0.5073 - accuracy: 0.8210 - val_loss: 0.4191 - val_accuracy: 0.8562\n",
      "Epoch 4/10\n",
      "162/162 [==============================] - 5s 33ms/step - loss: 0.4372 - accuracy: 0.8463 - val_loss: 0.3779 - val_accuracy: 0.8568\n",
      "Epoch 5/10\n",
      "162/162 [==============================] - 6s 36ms/step - loss: 0.3957 - accuracy: 0.8632 - val_loss: 0.3569 - val_accuracy: 0.8690\n",
      "Epoch 6/10\n",
      "162/162 [==============================] - 5s 34ms/step - loss: 0.3533 - accuracy: 0.8738 - val_loss: 0.3500 - val_accuracy: 0.8672\n",
      "Epoch 7/10\n",
      "162/162 [==============================] - 6s 35ms/step - loss: 0.3190 - accuracy: 0.8885 - val_loss: 0.3280 - val_accuracy: 0.8823\n",
      "Epoch 8/10\n",
      "162/162 [==============================] - 6s 36ms/step - loss: 0.3053 - accuracy: 0.8920 - val_loss: 0.2999 - val_accuracy: 0.8841\n",
      "Epoch 9/10\n",
      "162/162 [==============================] - 6s 35ms/step - loss: 0.2757 - accuracy: 0.9026 - val_loss: 0.2977 - val_accuracy: 0.8870\n",
      "Epoch 10/10\n",
      "162/162 [==============================] - 6s 34ms/step - loss: 0.2647 - accuracy: 0.9022 - val_loss: 0.2967 - val_accuracy: 0.8806\n"
     ]
    }
   ],
   "source": [
    "history1 = model.fit(X_train, Y_train, epochs=10, validation_data=(X_test,Y_test))"
   ]
  },
  {
   "cell_type": "code",
   "execution_count": 25,
   "metadata": {},
   "outputs": [
    {
     "data": {
      "text/plain": [
       "array([7, 7, 2, ..., 7, 0, 2], dtype=int64)"
      ]
     },
     "execution_count": 25,
     "metadata": {},
     "output_type": "execute_result"
    }
   ],
   "source": [
    "model.save('image_classifier_scaled.h5')\n",
    "img_classifier_scaled_model =  load_model('image_classifier_scaled.h5')\n",
    "y_pred = img_classifier_scaled_model.predict_classes(X_test)\n",
    "y_pred"
   ]
  },
  {
   "cell_type": "code",
   "execution_count": 26,
   "metadata": {},
   "outputs": [
    {
     "data": {
      "text/plain": [
       "array([7, 7, 2, ..., 7, 0, 2], dtype=int64)"
      ]
     },
     "execution_count": 26,
     "metadata": {},
     "output_type": "execute_result"
    }
   ],
   "source": [
    "#converting y test to actual labels.\n",
    "y_test = np.argmax(Y_test, axis = 1)\n",
    "y_test"
   ]
  },
  {
   "cell_type": "code",
   "execution_count": 27,
   "metadata": {},
   "outputs": [
    {
     "name": "stdout",
     "output_type": "stream",
     "text": [
      "The Accuracy is: 88.05797101449275\n"
     ]
    }
   ],
   "source": [
    "print('The Accuracy is:', accuracy_score(y_pred,y_test) * 100)"
   ]
  },
  {
   "cell_type": "code",
   "execution_count": 28,
   "metadata": {},
   "outputs": [
    {
     "data": {
      "image/png": "[encoded data removed]",
      "text/plain": [
       "<Figure size 432x288 with 1 Axes>"
      ]
     },
     "metadata": {
      "needs_background": "light"
     },
     "output_type": "display_data"
    },
    {
     "name": "stdout",
     "output_type": "stream",
     "text": [
      "Actual Value for :person\n",
      "Predicted Value for : person\n",
      "\n"
     ]
    },
    {
     "data": {
      "image/png": "[encoded data removed]",
      "text/plain": [
       "<Figure size 432x288 with 1 Axes>"
      ]
     },
     "metadata": {
      "needs_background": "light"
     },
     "output_type": "display_data"
    },
    {
     "name": "stdout",
     "output_type": "stream",
     "text": [
      "Actual Value for :person\n",
      "Predicted Value for : person\n",
      "\n"
     ]
    },
    {
     "data": {
      "image/png": "[encoded data removed]",
      "text/plain": [
       "<Figure size 432x288 with 1 Axes>"
      ]
     },
     "metadata": {
      "needs_background": "light"
     },
     "output_type": "display_data"
    },
    {
     "name": "stdout",
     "output_type": "stream",
     "text": [
      "Actual Value for :cat\n",
      "Predicted Value for : cat\n",
      "\n"
     ]
    },
    {
     "data": {
      "image/png": "[encoded data removed]",
      "text/plain": [
       "<Figure size 432x288 with 1 Axes>"
      ]
     },
     "metadata": {
      "needs_background": "light"
     },
     "output_type": "display_data"
    },
    {
     "name": "stdout",
     "output_type": "stream",
     "text": [
      "Actual Value for :car\n",
      "Predicted Value for : car\n",
      "\n"
     ]
    }
   ],
   "source": [
    "# Predicting the Result for few test images\n",
    "for i in range(0,4):\n",
    "    plt.imshow(X_test[i,:,:])  \n",
    "    plt.show()\n",
    "    predicted_value = img_classifier_scaled_model.predict(X_test[[i],:])\n",
    "    predict_classes = img_classifier_scaled_model.predict_classes(X_test[[i],:])\n",
    "    actual_value = Y_test[[i],:]\n",
    "    print(\"Actual Value for :\" + str(class_names[np.argmax(actual_value)]))\n",
    "    print(\"Predicted Value for : \"  + str(class_names[predict_classes[0]])+'\\n')"
   ]
  },
  {
   "cell_type": "code",
   "execution_count": null,
   "metadata": {},
   "outputs": [],
   "source": []
  }
 ],
 "metadata": {
  "kernelspec": {
   "display_name": "Python 3",
   "language": "python",
   "name": "python3"
  },
  "language_info": {
   "codemirror_mode": {
    "name": "ipython",
    "version": 3
   },
   "file_extension": ".py",
   "mimetype": "text/x-python",
   "name": "python",
   "nbconvert_exporter": "python",
   "pygments_lexer": "ipython3",
   "version": "3.7.7"
  }
 },
 "nbformat": 4,
 "nbformat_minor": 4
}
