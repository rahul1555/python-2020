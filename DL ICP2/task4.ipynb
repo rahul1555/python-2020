{
 "cells": [
  {
   "cell_type": "code",
   "execution_count": 1,
   "metadata": {},
   "outputs": [],
   "source": [
    "from keras import Sequential\n",
    "from keras.datasets import mnist\n",
    "import numpy as np\n",
    "import matplotlib.pyplot as plt\n",
    "from keras.layers import Dense\n",
    "from keras.utils import to_categorical"
   ]
  },
  {
   "cell_type": "code",
   "execution_count": 2,
   "metadata": {},
   "outputs": [
    {
     "name": "stdout",
     "output_type": "stream",
     "text": [
      "(60000, 28, 28)\n",
      "(60000,)\n"
     ]
    },
    {
     "data": {
      "text/plain": [
       "Text(0.5, 1.0, 'Ground Truth : 3')"
      ]
     },
     "execution_count": 2,
     "metadata": {},
     "output_type": "execute_result"
    },
    {
     "data": {
      "image/png": "[encoded data removed]",
      "text/plain": [
       "<Figure size 432x288 with 1 Axes>"
      ]
     },
     "metadata": {
      "needs_background": "light"
     },
     "output_type": "display_data"
    }
   ],
   "source": [
    "(train_image,train_label),(test_image, test_label) = mnist.load_data()\n",
    "#display the first image in the training data\n",
    "print(train_image.shape)\n",
    "print(train_label.shape)\n",
    "plt.imshow(train_image[10,:,:],cmap='gray')\n",
    "plt.title('Ground Truth : {}'.format(train_label[10]))\n",
    "# plt.show()"
   ]
  },
  {
   "cell_type": "code",
   "execution_count": 3,
   "metadata": {},
   "outputs": [],
   "source": [
    "dimData = np.prod(train_image.shape[1:])\n",
    "train_data = train_image.reshape(train_image.shape[0],dimData)\n",
    "test_data = test_image.reshape(test_image.shape[0],dimData)"
   ]
  },
  {
   "cell_type": "code",
   "execution_count": 4,
   "metadata": {},
   "outputs": [],
   "source": [
    "#convert data to float and scale values between 0 and 1\n",
    "train_data = train_data.astype('float')\n",
    "test_data = test_data.astype('float')"
   ]
  },
  {
   "cell_type": "code",
   "execution_count": 5,
   "metadata": {},
   "outputs": [],
   "source": [
    "#change the labels frominteger to one-hot encoding\n",
    "train_labels_one_hot = to_categorical(train_labels)\n",
    "test_labels_one_hot = to_categorical(test_labels)"
   ]
  },
  {
   "cell_type": "code",
   "execution_count": 6,
   "metadata": {},
   "outputs": [],
   "source": [
    "#creating network\n",
    "model = Sequential()\n",
    "model.add(Dense(512, activation='relu', input_shape=(dimData,)))\n",
    "model.add(Dense(512, activation='relu'))\n",
    "model.add(Dense(10, activation='softmax'))"
   ]
  },
  {
   "cell_type": "code",
   "execution_count": 7,
   "metadata": {},
   "outputs": [
    {
     "name": "stdout",
     "output_type": "stream",
     "text": [
      "Epoch 1/20\n",
      "235/235 [==============================] - 4s 18ms/step - loss: 4.5633 - accuracy: 0.8829 - val_loss: 0.6065 - val_accuracy: 0.9356\n",
      "Epoch 2/20\n",
      "235/235 [==============================] - 4s 17ms/step - loss: 0.4000 - accuracy: 0.9454 - val_loss: 0.4214 - val_accuracy: 0.9416\n",
      "Epoch 3/20\n",
      "235/235 [==============================] - 4s 17ms/step - loss: 0.2389 - accuracy: 0.9580 - val_loss: 0.2771 - val_accuracy: 0.9584\n",
      "Epoch 4/20\n",
      "235/235 [==============================] - 5s 19ms/step - loss: 0.1901 - accuracy: 0.9664 - val_loss: 0.2556 - val_accuracy: 0.9548\n",
      "Epoch 5/20\n",
      "235/235 [==============================] - 5s 20ms/step - loss: 0.1640 - accuracy: 0.9725 - val_loss: 0.2870 - val_accuracy: 0.9637\n",
      "Epoch 6/20\n",
      "235/235 [==============================] - 5s 20ms/step - loss: 0.1489 - accuracy: 0.9760 - val_loss: 0.4190 - val_accuracy: 0.9417\n",
      "Epoch 7/20\n",
      "235/235 [==============================] - 5s 20ms/step - loss: 0.1394 - accuracy: 0.9781 - val_loss: 0.3411 - val_accuracy: 0.9673\n",
      "Epoch 8/20\n",
      "235/235 [==============================] - 5s 21ms/step - loss: 0.1300 - accuracy: 0.9805 - val_loss: 0.3386 - val_accuracy: 0.9672\n",
      "Epoch 9/20\n",
      "235/235 [==============================] - 4s 18ms/step - loss: 0.1209 - accuracy: 0.9827 - val_loss: 0.3394 - val_accuracy: 0.9680\n",
      "Epoch 10/20\n",
      "235/235 [==============================] - 4s 18ms/step - loss: 0.1127 - accuracy: 0.9839 - val_loss: 0.4762 - val_accuracy: 0.9642\n",
      "Epoch 11/20\n",
      "235/235 [==============================] - 4s 19ms/step - loss: 0.1113 - accuracy: 0.9857 - val_loss: 0.5481 - val_accuracy: 0.9636\n",
      "Epoch 12/20\n",
      "235/235 [==============================] - 4s 18ms/step - loss: 0.1024 - accuracy: 0.9863 - val_loss: 0.4875 - val_accuracy: 0.9633\n",
      "Epoch 13/20\n",
      "235/235 [==============================] - 4s 18ms/step - loss: 0.1019 - accuracy: 0.9873 - val_loss: 0.3915 - val_accuracy: 0.9733\n",
      "Epoch 14/20\n",
      "235/235 [==============================] - 4s 18ms/step - loss: 0.1075 - accuracy: 0.9888 - val_loss: 0.4276 - val_accuracy: 0.9732\n",
      "Epoch 15/20\n",
      "235/235 [==============================] - 4s 18ms/step - loss: 0.0985 - accuracy: 0.9895 - val_loss: 0.6045 - val_accuracy: 0.9735\n",
      "Epoch 16/20\n",
      "235/235 [==============================] - 4s 18ms/step - loss: 0.0857 - accuracy: 0.9902 - val_loss: 0.5518 - val_accuracy: 0.9724\n",
      "Epoch 17/20\n",
      "235/235 [==============================] - 4s 19ms/step - loss: 0.0880 - accuracy: 0.9900 - val_loss: 0.6071 - val_accuracy: 0.9764\n",
      "Epoch 18/20\n",
      "235/235 [==============================] - 4s 19ms/step - loss: 0.0855 - accuracy: 0.9916 - val_loss: 0.6575 - val_accuracy: 0.9754\n",
      "Epoch 19/20\n",
      "235/235 [==============================] - 4s 19ms/step - loss: 0.0731 - accuracy: 0.9921 - val_loss: 0.6410 - val_accuracy: 0.9740\n",
      "Epoch 20/20\n",
      "235/235 [==============================] - 4s 19ms/step - loss: 0.0920 - accuracy: 0.9920 - val_loss: 0.6565 - val_accuracy: 0.9764\n",
      "313/313 [==============================] - 1s 2ms/step - loss: 0.6565 - accuracy: 0.9764\n",
      "Evaluation result on Test Data : Loss = 0.6564802527427673, accuracy = 0.9764000177383423\n"
     ]
    }
   ],
   "source": [
    "model.compile(optimizer='rmsprop', loss='categorical_crossentropy', metrics=['accuracy'])\n",
    "history = model.fit(train_data, train_label_one_hot, batch_size=256, epochs=20, verbose=1,\n",
    "                   validation_data=(test_data, test_label_one_hot))\n",
    "\n",
    "[test_loss, test_acc] = model.evaluate(test_data, test_label_one_hot)\n",
    "print(\"Evaluation result on Test Data : Loss = {}, accuracy = {}\".format(test_loss, test_acc))"
   ]
  }
 ],
 "metadata": {
  "kernelspec": {
   "display_name": "Python 3",
   "language": "python",
   "name": "python3"
  },
  "language_info": {
   "codemirror_mode": {
    "name": "ipython",
    "version": 3
   },
   "file_extension": ".py",
   "mimetype": "text/x-python",
   "name": "python",
   "nbconvert_exporter": "python",
   "pygments_lexer": "ipython3",
   "version": "3.7.7"
  }
 },
 "nbformat": 4,
 "nbformat_minor": 4
}
