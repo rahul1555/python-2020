{
 "cells": [
  {
   "cell_type": "code",
   "execution_count": 1,
   "metadata": {},
   "outputs": [],
   "source": [
    "from keras import Sequential\n",
    "from keras.datasets import mnist\n",
    "import numpy as np\n",
    "import matplotlib.pyplot as plt\n",
    "from keras.layers import Dense\n",
    "from keras.utils import to_categorical"
   ]
  },
  {
   "cell_type": "code",
   "execution_count": 2,
   "metadata": {},
   "outputs": [
    {
     "name": "stdout",
     "output_type": "stream",
     "text": [
      "(60000, 28, 28)\n",
      "(60000,)\n"
     ]
    },
    {
     "data": {
      "text/plain": [
       "Text(0.5, 1.0, 'Ground Truth : 3')"
      ]
     },
     "execution_count": 2,
     "metadata": {},
     "output_type": "execute_result"
    },
    {
     "data": {
      "image/png": "[encoded data removed]",
      "text/plain": [
       "<Figure size 432x288 with 1 Axes>"
      ]
     },
     "metadata": {
      "needs_background": "light"
     },
     "output_type": "display_data"
    }
   ],
   "source": [
    "(train_image,train_label),(test_image, test_label) = mnist.load_data()\n",
    "#display the first image in the training data\n",
    "print(train_image.shape)\n",
    "print(train_label.shape)\n",
    "plt.imshow(train_images[15,:,:],cmap='gray')\n",
    "plt.title('Ground Truth : {}'.format(train_label[15]))\n",
    "# plt.show()"
   ]
  },
  {
   "cell_type": "code",
   "execution_count": 3,
   "metadata": {},
   "outputs": [
    {
     "name": "stdout",
     "output_type": "stream",
     "text": [
      "(60000, 784)\n",
      "(10000, 784)\n"
     ]
    }
   ],
   "source": [
    "#process the data\n",
    "#1. convert each image of shape 28*28 to 784 dimensional which will be fed to the network as a single feature\n",
    "dimData = np.prod(train_image.shape[1:])\n",
    "train_data = train_image.reshape(train_image.shape[0],dimData)\n",
    "test_data = test_image.reshape(test_image.shape[0],dimData)\n",
    "print(train_data.shape)\n",
    "print(test_data.shape)"
   ]
  },
  {
   "cell_type": "code",
   "execution_count": 4,
   "metadata": {},
   "outputs": [],
   "source": [
    "#convert data to float and scale values between 0 and 1\n",
    "train_data = train_data.astype('float')\n",
    "test_data = test_data.astype('float')\n",
    "# scale data\n",
    "train_data /=255.0\n",
    "test_data /=255.0"
   ]
  },
  {
   "cell_type": "code",
   "execution_count": 5,
   "metadata": {},
   "outputs": [],
   "source": [
    "#change the labels frominteger to one-hot encoding\n",
    "train_label_one_hot = to_categorical(train_label)\n",
    "test_label_one_hot = to_categorical(test_label)"
   ]
  },
  {
   "cell_type": "code",
   "execution_count": 6,
   "metadata": {},
   "outputs": [],
   "source": [
    "#creating network\n",
    "model = Sequential()\n",
    "model.add(Dense(512, activation='relu', input_shape=(dimData,)))\n",
    "model.add(Dense(512, activation='relu'))\n",
    "model.add(Dense(15, activation='softmax'))"
   ]
  },
  {
   "cell_type": "code",
   "execution_count": 7,
   "metadata": {},
   "outputs": [
    {
     "name": "stdout",
     "output_type": "stream",
     "text": [
      "Epoch 1/20\n",
      "235/235 [==============================] - 4s 17ms/step - loss: 0.2705 - accuracy: 0.9166 - val_loss: 0.2078 - val_accuracy: 0.9298\n",
      "Epoch 2/20\n",
      "235/235 [==============================] - 4s 15ms/step - loss: 0.0937 - accuracy: 0.9709 - val_loss: 0.0945 - val_accuracy: 0.9708\n",
      "Epoch 3/20\n",
      "235/235 [==============================] - 3s 15ms/step - loss: 0.0590 - accuracy: 0.9809 - val_loss: 0.0938 - val_accuracy: 0.9715\n",
      "Epoch 4/20\n",
      "235/235 [==============================] - 3s 15ms/step - loss: 0.0413 - accuracy: 0.9869 - val_loss: 0.0630 - val_accuracy: 0.9812\n",
      "Epoch 5/20\n",
      "235/235 [==============================] - 3s 15ms/step - loss: 0.0294 - accuracy: 0.9905 - val_loss: 0.0830 - val_accuracy: 0.9762\n",
      "Epoch 6/20\n",
      "235/235 [==============================] - 3s 15ms/step - loss: 0.0226 - accuracy: 0.9926 - val_loss: 0.0728 - val_accuracy: 0.9816\n",
      "Epoch 7/20\n",
      "235/235 [==============================] - 3s 15ms/step - loss: 0.0172 - accuracy: 0.9943 - val_loss: 0.0707 - val_accuracy: 0.9838\n",
      "Epoch 8/20\n",
      "235/235 [==============================] - 4s 16ms/step - loss: 0.0133 - accuracy: 0.9958 - val_loss: 0.0870 - val_accuracy: 0.9804\n",
      "Epoch 9/20\n",
      "235/235 [==============================] - 4s 16ms/step - loss: 0.0123 - accuracy: 0.9961 - val_loss: 0.0867 - val_accuracy: 0.9809\n",
      "Epoch 10/20\n",
      "235/235 [==============================] - 4s 16ms/step - loss: 0.0101 - accuracy: 0.9965 - val_loss: 0.1001 - val_accuracy: 0.9789\n",
      "Epoch 11/20\n",
      "235/235 [==============================] - 4s 16ms/step - loss: 0.0080 - accuracy: 0.9976 - val_loss: 0.0893 - val_accuracy: 0.9817\n",
      "Epoch 12/20\n",
      "235/235 [==============================] - 4s 15ms/step - loss: 0.0071 - accuracy: 0.9978 - val_loss: 0.1104 - val_accuracy: 0.9820\n",
      "Epoch 13/20\n",
      "235/235 [==============================] - 4s 15ms/step - loss: 0.0058 - accuracy: 0.9980 - val_loss: 0.1053 - val_accuracy: 0.9819\n",
      "Epoch 14/20\n",
      "235/235 [==============================] - 4s 16ms/step - loss: 0.0068 - accuracy: 0.9980 - val_loss: 0.0968 - val_accuracy: 0.9837\n",
      "Epoch 15/20\n",
      "235/235 [==============================] - 4s 17ms/step - loss: 0.0057 - accuracy: 0.9981 - val_loss: 0.1063 - val_accuracy: 0.9823\n",
      "Epoch 16/20\n",
      "235/235 [==============================] - 4s 16ms/step - loss: 0.0042 - accuracy: 0.9987 - val_loss: 0.1245 - val_accuracy: 0.9810\n",
      "Epoch 17/20\n",
      "235/235 [==============================] - 4s 17ms/step - loss: 0.0056 - accuracy: 0.9984 - val_loss: 0.1247 - val_accuracy: 0.9806\n",
      "Epoch 18/20\n",
      "235/235 [==============================] - 4s 16ms/step - loss: 0.0049 - accuracy: 0.9986 - val_loss: 0.1685 - val_accuracy: 0.9790\n",
      "Epoch 19/20\n",
      "235/235 [==============================] - 4s 17ms/step - loss: 0.0048 - accuracy: 0.9988 - val_loss: 0.1342 - val_accuracy: 0.9814\n",
      "Epoch 20/20\n",
      "235/235 [==============================] - 4s 16ms/step - loss: 0.0046 - accuracy: 0.9987 - val_loss: 0.1572 - val_accuracy: 0.9785\n",
      "313/313 [==============================] - 1s 2ms/step - loss: 0.1572 - accuracy: 0.9785\n",
      "Evaluation result on Test Data : Loss = 0.15724730491638184, accuracy = 0.9785000085830688\n"
     ]
    }
   ],
   "source": [
    "model.compile(optimizer='rmsprop', loss='categorical_crossentropy', metrics=['accuracy'])\n",
    "history = model.fit(train_data, train_label_one_hot, batch_size=256, epochs=20, verbose=1,\n",
    "                   validation_data=(test_data, test_label_one_hot))\n",
    "\n",
    "[test_loss, test_acc] = model.evaluate(test_data, test_label_one_hot)\n",
    "print(\"Evaluation result on Test Data : Loss = {}, accuracy = {}\".format(test_loss, test_acc))"
   ]
  },
  {
   "cell_type": "code",
   "execution_count": 8,
   "metadata": {},
   "outputs": [
    {
     "name": "stdout",
     "output_type": "stream",
     "text": [
      "dict_keys(['loss', 'accuracy', 'val_loss', 'val_accuracy'])\n"
     ]
    }
   ],
   "source": [
    "# Plotting Loss and Accuracy Curve\n",
    "print(history.history.keys())"
   ]
  },
  {
   "cell_type": "code",
   "execution_count": 9,
   "metadata": {},
   "outputs": [
    {
     "data": {
      "image/png": "[encoded data removed]",
      "text/plain": [
       "<Figure size 432x288 with 1 Axes>"
      ]
     },
     "metadata": {
      "needs_background": "light"
     },
     "output_type": "display_data"
    }
   ],
   "source": [
    "# Plotting the accuracy\n",
    "plt.plot(history.history['accuracy'])\n",
    "plt.plot(history.history['val_accuracy'])\n",
    "plt.title('Model Accuracy')\n",
    "plt.ylabel('Accuracy')\n",
    "plt.xlabel('Epoch')\n",
    "plt.legend(['train', 'validation'], loc='lower right')\n",
    "plt.show()"
   ]
  },
  {
   "cell_type": "code",
   "execution_count": 10,
   "metadata": {},
   "outputs": [
    {
     "data": {
      "image/png": "[encoded data removed]",
      "text/plain": [
       "<Figure size 432x288 with 1 Axes>"
      ]
     },
     "metadata": {
      "needs_background": "light"
     },
     "output_type": "display_data"
    }
   ],
   "source": [
    "# Curve of loss\n",
    "plt.plot(history.history['loss'])\n",
    "plt.plot(history.history['val_loss'])\n",
    "plt.title('model loss')\n",
    "plt.ylabel('loss')\n",
    "plt.xlabel('epoch')\n",
    "plt.legend(['train', 'validation'], loc='upper right')\n",
    "plt.show()"
   ]
  },
  {
   "cell_type": "code",
   "execution_count": 11,
   "metadata": {},
   "outputs": [
    {
     "data": {
      "image/png": "[encoded data removed]",
      "text/plain": [
       "<Figure size 432x288 with 1 Axes>"
      ]
     },
     "metadata": {
      "needs_background": "light"
     },
     "output_type": "display_data"
    },
    {
     "name": "stdout",
     "output_type": "stream",
     "text": [
      "Predicted digit: 0\n"
     ]
    }
   ],
   "source": [
    "# Plotting digit from Test Data and predicting it\n",
    "plt.imshow(test_data[10].reshape(28, 28),cmap='Greys')\n",
    "plt.title(\"Digit from the test data\")\n",
    "plt.show()\n",
    "pred = model.predict(test_data[15].reshape(1,784))\n",
    "print(\"Predicted digit:\",pred.argmax())"
   ]
  },
  {
   "cell_type": "code",
   "execution_count": 12,
   "metadata": {},
   "outputs": [],
   "source": [
    "# Adding more hidden layers \n",
    "proto1 = Sequential()\n",
    "proto1.add(Dense(512, activation='tanh', input_shape=(dimData,)))\n",
    "proto1.add(Dense(512, activation='tanh'))\n",
    "proto1.add(Dense(512, activation='tanh'))\n",
    "proto1.add(Dense(512, activation='tanh'))\n",
    "proto1.add(Dense(10, activation='sigmoid'))"
   ]
  },
  {
   "cell_type": "code",
   "execution_count": 13,
   "metadata": {},
   "outputs": [
    {
     "name": "stdout",
     "output_type": "stream",
     "text": [
      "Epoch 1/20\n",
      "235/235 [==============================] - 8s 33ms/step - loss: 0.4715 - accuracy: 0.8532 - val_loss: 0.2306 - val_accuracy: 0.9281\n",
      "Epoch 2/20\n",
      "235/235 [==============================] - 7s 32ms/step - loss: 0.1680 - accuracy: 0.9474 - val_loss: 0.2309 - val_accuracy: 0.9275\n",
      "Epoch 3/20\n",
      "235/235 [==============================] - 7s 32ms/step - loss: 0.1105 - accuracy: 0.9652 - val_loss: 0.1094 - val_accuracy: 0.9663\n",
      "Epoch 4/20\n",
      "235/235 [==============================] - 7s 32ms/step - loss: 0.0806 - accuracy: 0.9743 - val_loss: 0.1249 - val_accuracy: 0.9610\n",
      "Epoch 5/20\n",
      "235/235 [==============================] - 8s 33ms/step - loss: 0.0592 - accuracy: 0.9814 - val_loss: 0.0937 - val_accuracy: 0.9716\n",
      "Epoch 6/20\n",
      "235/235 [==============================] - 8s 32ms/step - loss: 0.0458 - accuracy: 0.9858 - val_loss: 0.0896 - val_accuracy: 0.9747\n",
      "Epoch 7/20\n",
      "235/235 [==============================] - 8s 32ms/step - loss: 0.0353 - accuracy: 0.9886 - val_loss: 0.0849 - val_accuracy: 0.9754\n",
      "Epoch 8/20\n",
      "235/235 [==============================] - 8s 32ms/step - loss: 0.0293 - accuracy: 0.9901 - val_loss: 0.1198 - val_accuracy: 0.9679\n",
      "Epoch 9/20\n",
      "235/235 [==============================] - 8s 32ms/step - loss: 0.0225 - accuracy: 0.9926 - val_loss: 0.1017 - val_accuracy: 0.9720\n",
      "Epoch 10/20\n",
      "235/235 [==============================] - 8s 36ms/step - loss: 0.0183 - accuracy: 0.9943 - val_loss: 0.1156 - val_accuracy: 0.9696\n",
      "Epoch 11/20\n",
      "235/235 [==============================] - 8s 34ms/step - loss: 0.0147 - accuracy: 0.9955 - val_loss: 0.0859 - val_accuracy: 0.9788\n",
      "Epoch 12/20\n",
      "235/235 [==============================] - 8s 33ms/step - loss: 0.0139 - accuracy: 0.9956 - val_loss: 0.1168 - val_accuracy: 0.9724\n",
      "Epoch 13/20\n",
      "235/235 [==============================] - 8s 33ms/step - loss: 0.0111 - accuracy: 0.9963 - val_loss: 0.1262 - val_accuracy: 0.9711\n",
      "Epoch 14/20\n",
      "235/235 [==============================] - 8s 33ms/step - loss: 0.0105 - accuracy: 0.9967 - val_loss: 0.0775 - val_accuracy: 0.9808\n",
      "Epoch 15/20\n",
      "235/235 [==============================] - 8s 33ms/step - loss: 0.0086 - accuracy: 0.9975 - val_loss: 0.0964 - val_accuracy: 0.9776\n",
      "Epoch 16/20\n",
      "235/235 [==============================] - 8s 36ms/step - loss: 0.0072 - accuracy: 0.9978 - val_loss: 0.0790 - val_accuracy: 0.9822\n",
      "Epoch 17/20\n",
      "235/235 [==============================] - 8s 35ms/step - loss: 0.0070 - accuracy: 0.9977 - val_loss: 0.0885 - val_accuracy: 0.9779\n",
      "Epoch 18/20\n",
      "235/235 [==============================] - 8s 35ms/step - loss: 0.0067 - accuracy: 0.9977 - val_loss: 0.0888 - val_accuracy: 0.9807\n",
      "Epoch 19/20\n",
      "235/235 [==============================] - 8s 34ms/step - loss: 0.0062 - accuracy: 0.9983 - val_loss: 0.0924 - val_accuracy: 0.9808\n",
      "Epoch 20/20\n",
      "235/235 [==============================] - 8s 33ms/step - loss: 0.0061 - accuracy: 0.9981 - val_loss: 0.1012 - val_accuracy: 0.9789\n",
      "313/313 [==============================] - 1s 3ms/step - loss: 0.1012 - accuracy: 0.9789\n",
      "Evaluation result on Test Data : Loss = 0.10117737203836441, accuracy = 0.9789000153541565\n"
     ]
    }
   ],
   "source": [
    "proto1.compile(optimizer='rmsprop', loss='categorical_crossentropy', metrics=['accuracy'])\n",
    "history1 = proto1.fit(train_data, train_label_one_hot, batch_size=256, epochs=20, verbose=1,\n",
    "                   validation_data=(test_data, test_label_one_hot))\n",
    "\n",
    "[test_loss1, test_acc1] = proto1.evaluate(test_data, test_labels_one_hot)\n",
    "print(\"Evaluation result on Test Data : Loss = {}, accuracy = {}\".format(test_loss1, test_acc1))"
   ]
  },
  {
   "cell_type": "code",
   "execution_count": null,
   "metadata": {},
   "outputs": [],
   "source": []
  }
 ],
 "metadata": {
  "kernelspec": {
   "display_name": "Python 3",
   "language": "python",
   "name": "python3"
  },
  "language_info": {
   "codemirror_mode": {
    "name": "ipython",
    "version": 3
   },
   "file_extension": ".py",
   "mimetype": "text/x-python",
   "name": "python",
   "nbconvert_exporter": "python",
   "pygments_lexer": "ipython3",
   "version": "3.7.7"
  }
 },
 "nbformat": 4,
 "nbformat_minor": 4
}
